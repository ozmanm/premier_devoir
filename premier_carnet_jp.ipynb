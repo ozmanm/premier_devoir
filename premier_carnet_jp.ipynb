{
 "cells": [
  {
   "cell_type": "markdown",
   "id": "b2c250ad-e656-4209-aa5a-4848ba73850d",
   "metadata": {},
   "source": [
    "Ceci est une cellule markcdown"
   ]
  },
  {
   "cell_type": "code",
   "execution_count": 2,
   "id": "879354e1-ad92-4754-8d10-2d438fdf54f1",
   "metadata": {},
   "outputs": [
    {
     "name": "stdout",
     "output_type": "stream",
     "text": [
      "J'apprends a coder\n"
     ]
    }
   ],
   "source": [
    "print(\"J'apprends a coder\")"
   ]
  }
 ],
 "metadata": {
  "kernelspec": {
   "display_name": "Python 3 (ipykernel)",
   "language": "python",
   "name": "python3"
  },
  "language_info": {
   "codemirror_mode": {
    "name": "ipython",
    "version": 3
   },
   "file_extension": ".py",
   "mimetype": "text/x-python",
   "name": "python",
   "nbconvert_exporter": "python",
   "pygments_lexer": "ipython3",
   "version": "3.11.5"
  }
 },
 "nbformat": 4,
 "nbformat_minor": 5
}
